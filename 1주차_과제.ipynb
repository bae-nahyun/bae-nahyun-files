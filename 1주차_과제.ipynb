{
  "nbformat": 4,
  "nbformat_minor": 0,
  "metadata": {
    "colab": {
      "name": "1주차 과제.ipynb",
      "provenance": [],
      "authorship_tag": "ABX9TyMNKk7zZdb8Sw/HEL0TpZkR",
      "include_colab_link": true
    },
    "kernelspec": {
      "name": "python3",
      "display_name": "Python 3"
    }
  },
  "cells": [
    {
      "cell_type": "markdown",
      "metadata": {
        "id": "view-in-github",
        "colab_type": "text"
      },
      "source": [
        "<a href=\"https://colab.research.google.com/github/bae-nahyun/bae-nahyun-files/blob/master/1%EC%A3%BC%EC%B0%A8_%EA%B3%BC%EC%A0%9C.ipynb\" target=\"_parent\"><img src=\"https://colab.research.google.com/assets/colab-badge.svg\" alt=\"Open In Colab\"/></a>"
      ]
    },
    {
      "cell_type": "code",
      "metadata": {
        "id": "LnlkspjC4tKv",
        "colab_type": "code",
        "colab": {}
      },
      "source": [
        ""
      ],
      "execution_count": 0,
      "outputs": []
    },
    {
      "cell_type": "markdown",
      "metadata": {
        "id": "ii9ACheA47CI",
        "colab_type": "text"
      },
      "source": [
        "<인공지능이 적용된 제품과 서비스>\n",
        "1. 언어- 구글번역\n",
        "2. 음성- 애플의 Siri, 아마존의 Alexa\n",
        "3. 이미지- 구글의 이미지 인식 및 카테고리 분류\n",
        "4. 자율주행- 자동차기업 테슬라\n",
        "\n"
      ]
    }
  ]
}