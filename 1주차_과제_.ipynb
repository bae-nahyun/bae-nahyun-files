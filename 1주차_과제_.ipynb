{
  "nbformat": 4,
  "nbformat_minor": 0,
  "metadata": {
    "colab": {
      "name": "1주차 과제.ipynb의 사본",
      "provenance": [],
      "collapsed_sections": [],
      "authorship_tag": "ABX9TyMzgEwZ97EvhAH8Ht10zcpc",
      "include_colab_link": true
    },
    "kernelspec": {
      "name": "python3",
      "display_name": "Python 3"
    }
  },
  "cells": [
    {
      "cell_type": "markdown",
      "metadata": {
        "id": "view-in-github",
        "colab_type": "text"
      },
      "source": [
        "<a href=\"https://colab.research.google.com/github/bae-nahyun/bae-nahyun-files/blob/master/1%EC%A3%BC%EC%B0%A8_%EA%B3%BC%EC%A0%9C_.ipynb\" target=\"_parent\"><img src=\"https://colab.research.google.com/assets/colab-badge.svg\" alt=\"Open In Colab\"/></a>"
      ]
    },
    {
      "cell_type": "code",
      "metadata": {
        "id": "LnlkspjC4tKv",
        "colab_type": "code",
        "colab": {}
      },
      "source": [
        ""
      ],
      "execution_count": null,
      "outputs": []
    },
    {
      "cell_type": "markdown",
      "metadata": {
        "id": "ii9ACheA47CI",
        "colab_type": "text"
      },
      "source": [
        "<인공지능이 적용된 제품과 서비스>\n",
        "1. 언어- 구글번역\n",
        ":\n",
        "구글 번역기는 2007년을 시작으로 구글에서 무료로 번역 서비스를 제공해 왔습니다. 또 구글이라는 기업의 규모에 따라 현재까지 세계에서 가장 많이 사용된 번역기가 구글 번역기입니다. 알파고에서 사용된 적 있는 딥러닝 기술이 적용되어 있는 '인공신경망 기반'의 번역 서비스를 제공하기 시작하며 기존의 번역보다 비교할 수 없이 자연스러운 번역 결과를 제공하고 있습니다. 기계번역은 번역을 요청한 문장에서 말이 될 법한 문장을 만들어 결과로 도출하기 때문에 정확도가 상당히 많이 떨어지며 부자연스러웠습니다. 하지만 딥러닝이 사용된 인공신경망 번역은 딥러닝 엔진을 통해 전체 문맥을 파악하고 그 파악한 문장에서 번역을 해주기 때문에 실제로 사람이 번역하는 과정과 비슷하게 된다고 합니다. 인공신경망 번역을 사용한 결과 기존보다 번역 오류가 약 85%까지 줄어들었습니다.\n",
        "2. 음성- 인공지능 스피커 '아마존의 Alexa'\n",
        ":\n",
        "아마존은 기계 학습 알고리즘, 데이터, 그리고 최고 수준의 컴퓨팅 기능을 통해 시끄러운 곳에서도 높은 정확도로 원거리 음성 인식이 가능함을 입증했습니다. 사용자가 말한 소리가 텍스트로 변환되면 알렉사는 자연어 이해 기능을 사용해 단어를 구조적인 의도 해석으로 변환합니다. 이 구조적 해석 내용은 사용자가 상호 작용 중인 디바이스의 유형, 응답 제공 가능성이 가장 높은 기술, 말을 하고 있는 사람 등 다양한 형식의 상황별 정보와 함께 사용됩니다.\n",
        "3. 이미지- 구글의 이미지 인식 및 카테고리 분류\n",
        ":\n",
        "인공신경망 기술 딥러닝을 이용해 사람 시각처럼 여러 사물을 방대한 양의 이미지를 학습해 정확하게 인식하는 기술입니다. 핵심은 이 과정에서 '노이즈'를 얼마나 판단해 실제 이미지를 구분하느냐는 것인데 오류를 줄이고자 이미지 특징을 포착하고 추상화합니다. 관련 이미지를 수만장에서 수백만장까지 학습하면 보다 정확한 판단을 할 수 있게됩니다.\n",
        "4. 자율주행- 자동차기업 테슬라\n",
        ":\n",
        "자율 주행 자동차의 원리는 실시간으로 도로의 교통상황을 판별해서 자동으로 주행을 하는 것입니다. 사람이 보는 것 같이 약속되지 않은 상황에서도 많은 결과물을 보여줍니다. 사람처럼 생각하고 사람처럼 주행하는 것입니다. 일단 인지, 판단, 제어 순서로 작용됩니다.\n",
        "\n"
      ]
    }
  ]
}